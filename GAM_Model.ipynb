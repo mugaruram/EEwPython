{
  "nbformat": 4,
  "nbformat_minor": 0,
  "metadata": {
    "colab": {
      "provenance": [],
      "authorship_tag": "ABX9TyP8NopSlQJeqK3eZq7WrPeD",
      "include_colab_link": true
    },
    "kernelspec": {
      "name": "python3",
      "display_name": "Python 3"
    },
    "language_info": {
      "name": "python"
    }
  },
  "cells": [
    {
      "cell_type": "markdown",
      "metadata": {
        "id": "view-in-github",
        "colab_type": "text"
      },
      "source": [
        "<a href=\"https://colab.research.google.com/github/mugaruram/EEwPython/blob/master/GAM_Model.ipynb\" target=\"_parent\"><img src=\"https://colab.research.google.com/assets/colab-badge.svg\" alt=\"Open In Colab\"/></a>"
      ]
    },
    {
      "cell_type": "code",
      "source": [
        "# Force reinstall compatible versions of numpy and pygam\n",
        "#!pip uninstall -y numpy\n",
        "!pip install numpy # ==1.23.5\n",
        "!pip install pygam --no-cache-dir\n"
      ],
      "metadata": {
        "id": "sT6vUG0JzUoA",
        "collapsed": true
      },
      "execution_count": null,
      "outputs": []
    },
    {
      "cell_type": "code",
      "source": [
        "# Step 1: Install required package\n",
        "#!pip install pygam"
      ],
      "metadata": {
        "collapsed": true,
        "id": "_fxfpr04w59D"
      },
      "execution_count": null,
      "outputs": []
    },
    {
      "cell_type": "code",
      "source": [
        "#!pip install --upgrade --force-reinstall pandas"
      ],
      "metadata": {
        "collapsed": true,
        "id": "Uh5czxo0xUgQ"
      },
      "execution_count": null,
      "outputs": []
    },
    {
      "cell_type": "code",
      "execution_count": null,
      "metadata": {
        "id": "bSaVFe0zwyY6"
      },
      "outputs": [],
      "source": [
        "# Step 1: Install required package\n",
        "#!pip install pygam\n",
        "\n",
        "# Step 2: Import libraries\n",
        "import pandas as pd\n",
        "import numpy as np\n",
        "from pygam import LinearGAM, s\n",
        "from sklearn.model_selection import train_test_split\n",
        "from sklearn.metrics import r2_score, mean_squared_error, mean_absolute_error\n",
        "import matplotlib.pyplot as plt\n",
        "\n",
        "# Step 3: Load your dataset\n",
        "# Replace with the path to your uploaded file\n",
        "df = pd.read_csv('/content/NDIV_LST_TDVI_EVI_ExData.csv')\n",
        "df = df[['NDVI', 'Temp_0C', 'Precip_cm', 'LST_C', 'TVDI']].dropna()\n",
        "\n",
        "# Step 4: Define features and target\n",
        "X = df[['Temp_0C', 'Precip_cm', 'LST_C', 'TVDI']].values\n",
        "y = df['NDVI'].values\n",
        "\n",
        "# Step 5: Split the data\n",
        "X_train, X_test, y_train, y_test = train_test_split(X, y, test_size=0.2, random_state=42)\n",
        "\n",
        "# Step 6: Fit the GAM model\n",
        "gam = LinearGAM(s(0) + s(1) + s(2) + s(3)).fit(X_train, y_train)\n",
        "\n",
        "# Step 7: Predict and evaluate\n",
        "y_pred = gam.predict(X_test)\n",
        "r2 = r2_score(y_test, y_pred)\n",
        "rmse = np.sqrt(mean_squared_error(y_test, y_pred))\n",
        "mae = mean_absolute_error(y_test, y_pred)\n",
        "\n",
        "# Step 8: Display performance metrics\n",
        "#print(f'R-squared: {r2:.4f}')\n",
        "#print(f'RMSE: {rmse:.4f}')\n",
        "#print(f'MAE: {mae:.4f}')\n",
        "#print(f'AIC: {gam.statistics_[\"AIC\"]:.2f}')\n",
        "#print(f'GCV: {gam.statistics_[\"GCV\"]:.5f}')\n",
        "#print(f'Scale: {gam.statistics_[\"scale\"]:.4f}')\n",
        "#print(f'Pseudo R-squared: {gam.statistics_[\"pseudo_r2\"]:.4f}')\n",
        "\n",
        "# Step 8: Display performance metrics\n",
        "print(f'R-squared: {r2:.4f}')\n",
        "print(f'RMSE: {rmse:.4f}')\n",
        "print(f'MAE: {mae:.4f}')\n",
        "print(f'AIC: {gam.statistics_[\"AIC\"]:.2f}')\n",
        "print(f'GCV: {gam.statistics_[\"GCV\"]:.5f}')\n",
        "print(f'Scale: {gam.statistics_[\"scale\"]:.4f}')\n",
        "print(f'Pseudo R-squared: {gam.statistics_[\"pseudo_r2\"]}') # Remove the formatting for 'pseudo_r2'\n",
        "\n",
        "# Step 9: Plot smooth terms\n",
        "fig, axs = plt.subplots(2, 2, figsize=(14, 10))\n",
        "for i, ax in enumerate(axs.flatten()):\n",
        "    XX = gam.generate_X_grid(term=i)\n",
        "    ax.plot(XX[:, i], gam.partial_dependence(term=i, X=XX))\n",
        "    ax.plot(XX[:, i], gam.partial_dependence(term=i, X=XX, width=0.95)[1], c='r', ls='--')\n",
        "    ax.set_title(f'Smooth term for: {df.columns[i+1]}')\n",
        "plt.tight_layout()\n",
        "plt.show()\n"
      ]
    },
    {
      "cell_type": "code",
      "source": [
        "!pip install ace_tools"
      ],
      "metadata": {
        "id": "b9PGDgxq8GIa"
      },
      "execution_count": null,
      "outputs": []
    },
    {
      "cell_type": "code",
      "source": [
        "from sklearn.ensemble import RandomForestRegressor\n",
        "\n",
        "# Prepare data\n",
        "X_rf = df[['Temp_0C', 'Precip_cm', 'LST_C', 'TVDI']]\n",
        "y_rf = df['NDVI']\n",
        "\n",
        "# Split data\n",
        "X_train_rf, X_test_rf, y_train_rf, y_test_rf = train_test_split(X_rf, y_rf, test_size=0.2, random_state=42)\n",
        "\n",
        "# Fit RF model\n",
        "rf_model = RandomForestRegressor(n_estimators=100, random_state=42)\n",
        "rf_model.fit(X_train_rf, y_train_rf)\n",
        "\n",
        "# Predict\n",
        "y_pred_rf = rf_model.predict(X_test_rf)\n",
        "\n",
        "# Evaluate performance\n",
        "r2_rf = r2_score(y_test_rf, y_pred_rf)\n",
        "rmse_rf = np.sqrt(mean_squared_error(y_test_rf, y_pred_rf))\n",
        "mae_rf = mean_absolute_error(y_test_rf, y_pred_rf)\n",
        "\n",
        "# Feature importance\n",
        "feature_importances = rf_model.feature_importances_\n",
        "rf_results_df = pd.DataFrame({\n",
        "    'Metric': ['R-squared', 'RMSE', 'MAE'],\n",
        "    'Value': [round(r2_rf, 4), round(rmse_rf, 4), round(mae_rf, 4)]\n",
        "})\n",
        "\n",
        "feature_importance_df = pd.DataFrame({\n",
        "    'Feature': X_rf.columns,\n",
        "    'Importance': feature_importances\n",
        "}).sort_values(by='Importance', ascending=False).reset_index(drop=True)\n",
        "\n",
        "# Display results\n",
        "#import ace_tools as tools; tools.display_dataframe_to_user(name=\"Random Forest Model Summary for NDVI Prediction\", dataframe=rf_results_df)\n"
      ],
      "metadata": {
        "id": "xjNnCTqE2f2v"
      },
      "execution_count": 5,
      "outputs": []
    },
    {
      "cell_type": "code",
      "source": [
        "from sklearn.ensemble import RandomForestRegressor\n",
        "\n",
        "# ... (your existing code for data preparation, model fitting, and evaluation) ...\n",
        "\n",
        "# Display results using print statements and pandas functions\n",
        "print(\"Random Forest Model Summary for NDVI Prediction\")\n",
        "print(\"\\n\")  # Add an empty line for better readability\n",
        "\n",
        "print(rf_results_df.to_string())  # Display the results DataFrame\n",
        "print(\"\\n\")\n",
        "\n",
        "print(\"Feature Importance:\")\n",
        "print(feature_importance_df.to_string()) # Display the feature importance DataFrame"
      ],
      "metadata": {
        "id": "c1ndeKh49dDc"
      },
      "execution_count": null,
      "outputs": []
    }
  ]
}